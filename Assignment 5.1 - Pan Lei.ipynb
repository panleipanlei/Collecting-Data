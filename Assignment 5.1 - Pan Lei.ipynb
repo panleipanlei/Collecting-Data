{
 "cells": [
  {
   "cell_type": "code",
   "execution_count": 1,
   "id": "ea2f0c64",
   "metadata": {},
   "outputs": [
    {
     "data": {
      "text/html": [
       "<div>\n",
       "<style scoped>\n",
       "    .dataframe tbody tr th:only-of-type {\n",
       "        vertical-align: middle;\n",
       "    }\n",
       "\n",
       "    .dataframe tbody tr th {\n",
       "        vertical-align: top;\n",
       "    }\n",
       "\n",
       "    .dataframe thead th {\n",
       "        text-align: right;\n",
       "    }\n",
       "</style>\n",
       "<table border=\"1\" class=\"dataframe\">\n",
       "  <thead>\n",
       "    <tr style=\"text-align: right;\">\n",
       "      <th></th>\n",
       "      <th>id</th>\n",
       "      <th>name</th>\n",
       "      <th>gender</th>\n",
       "      <th>dates</th>\n",
       "      <th>yearOfBirth</th>\n",
       "      <th>yearOfDeath</th>\n",
       "      <th>placeOfBirth</th>\n",
       "      <th>placeOfDeath</th>\n",
       "      <th>url</th>\n",
       "    </tr>\n",
       "  </thead>\n",
       "  <tbody>\n",
       "    <tr>\n",
       "      <th>0</th>\n",
       "      <td>10093</td>\n",
       "      <td>Abakanowicz, Magdalena</td>\n",
       "      <td>Female</td>\n",
       "      <td>born 1930</td>\n",
       "      <td>1930.0</td>\n",
       "      <td>NaN</td>\n",
       "      <td>Polska</td>\n",
       "      <td>NaN</td>\n",
       "      <td>http://www.tate.org.uk/art/artists/magdalena-a...</td>\n",
       "    </tr>\n",
       "    <tr>\n",
       "      <th>1</th>\n",
       "      <td>0</td>\n",
       "      <td>Abbey, Edwin Austin</td>\n",
       "      <td>Male</td>\n",
       "      <td>1852–1911</td>\n",
       "      <td>1852.0</td>\n",
       "      <td>1911.0</td>\n",
       "      <td>Philadelphia, United States</td>\n",
       "      <td>London, United Kingdom</td>\n",
       "      <td>http://www.tate.org.uk/art/artists/edwin-austi...</td>\n",
       "    </tr>\n",
       "    <tr>\n",
       "      <th>2</th>\n",
       "      <td>2756</td>\n",
       "      <td>Abbott, Berenice</td>\n",
       "      <td>Female</td>\n",
       "      <td>1898–1991</td>\n",
       "      <td>1898.0</td>\n",
       "      <td>1991.0</td>\n",
       "      <td>Springfield, United States</td>\n",
       "      <td>Monson, United States</td>\n",
       "      <td>http://www.tate.org.uk/art/artists/berenice-ab...</td>\n",
       "    </tr>\n",
       "    <tr>\n",
       "      <th>3</th>\n",
       "      <td>1</td>\n",
       "      <td>Abbott, Lemuel Francis</td>\n",
       "      <td>Male</td>\n",
       "      <td>1760–1803</td>\n",
       "      <td>1760.0</td>\n",
       "      <td>1803.0</td>\n",
       "      <td>Leicestershire, United Kingdom</td>\n",
       "      <td>London, United Kingdom</td>\n",
       "      <td>http://www.tate.org.uk/art/artists/lemuel-fran...</td>\n",
       "    </tr>\n",
       "    <tr>\n",
       "      <th>4</th>\n",
       "      <td>622</td>\n",
       "      <td>Abrahams, Ivor</td>\n",
       "      <td>Male</td>\n",
       "      <td>born 1935</td>\n",
       "      <td>1935.0</td>\n",
       "      <td>NaN</td>\n",
       "      <td>Wigan, United Kingdom</td>\n",
       "      <td>NaN</td>\n",
       "      <td>http://www.tate.org.uk/art/artists/ivor-abraha...</td>\n",
       "    </tr>\n",
       "    <tr>\n",
       "      <th>...</th>\n",
       "      <td>...</td>\n",
       "      <td>...</td>\n",
       "      <td>...</td>\n",
       "      <td>...</td>\n",
       "      <td>...</td>\n",
       "      <td>...</td>\n",
       "      <td>...</td>\n",
       "      <td>...</td>\n",
       "      <td>...</td>\n",
       "    </tr>\n",
       "    <tr>\n",
       "      <th>3527</th>\n",
       "      <td>12542</td>\n",
       "      <td>Zorio, Gilberto</td>\n",
       "      <td>Male</td>\n",
       "      <td>born 1944</td>\n",
       "      <td>1944.0</td>\n",
       "      <td>NaN</td>\n",
       "      <td>Andorno Micca, Italia</td>\n",
       "      <td>NaN</td>\n",
       "      <td>http://www.tate.org.uk/art/artists/gilberto-zo...</td>\n",
       "    </tr>\n",
       "    <tr>\n",
       "      <th>3528</th>\n",
       "      <td>2186</td>\n",
       "      <td>Zox, Larry</td>\n",
       "      <td>Male</td>\n",
       "      <td>born 1936</td>\n",
       "      <td>1936.0</td>\n",
       "      <td>NaN</td>\n",
       "      <td>Des Moines, United States</td>\n",
       "      <td>NaN</td>\n",
       "      <td>http://www.tate.org.uk/art/artists/larry-zox-2186</td>\n",
       "    </tr>\n",
       "    <tr>\n",
       "      <th>3529</th>\n",
       "      <td>621</td>\n",
       "      <td>Zuccarelli, Francesco</td>\n",
       "      <td>Male</td>\n",
       "      <td>1702–1788</td>\n",
       "      <td>1702.0</td>\n",
       "      <td>1788.0</td>\n",
       "      <td>Italia</td>\n",
       "      <td>Firenze</td>\n",
       "      <td>http://www.tate.org.uk/art/artists/francesco-z...</td>\n",
       "    </tr>\n",
       "    <tr>\n",
       "      <th>3530</th>\n",
       "      <td>2187</td>\n",
       "      <td>Zuloaga, Ignacio</td>\n",
       "      <td>Male</td>\n",
       "      <td>1870–1945</td>\n",
       "      <td>1870.0</td>\n",
       "      <td>1945.0</td>\n",
       "      <td>España</td>\n",
       "      <td>España</td>\n",
       "      <td>http://www.tate.org.uk/art/artists/ignacio-zul...</td>\n",
       "    </tr>\n",
       "    <tr>\n",
       "      <th>3531</th>\n",
       "      <td>2188</td>\n",
       "      <td>Zyw, Aleksander</td>\n",
       "      <td>Male</td>\n",
       "      <td>1905–1995</td>\n",
       "      <td>1905.0</td>\n",
       "      <td>1995.0</td>\n",
       "      <td>Polska</td>\n",
       "      <td>NaN</td>\n",
       "      <td>http://www.tate.org.uk/art/artists/aleksander-...</td>\n",
       "    </tr>\n",
       "  </tbody>\n",
       "</table>\n",
       "<p>3532 rows × 9 columns</p>\n",
       "</div>"
      ],
      "text/plain": [
       "         id                    name  gender      dates  yearOfBirth  \\\n",
       "0     10093  Abakanowicz, Magdalena  Female  born 1930       1930.0   \n",
       "1         0     Abbey, Edwin Austin    Male  1852–1911       1852.0   \n",
       "2      2756        Abbott, Berenice  Female  1898–1991       1898.0   \n",
       "3         1  Abbott, Lemuel Francis    Male  1760–1803       1760.0   \n",
       "4       622          Abrahams, Ivor    Male  born 1935       1935.0   \n",
       "...     ...                     ...     ...        ...          ...   \n",
       "3527  12542         Zorio, Gilberto    Male  born 1944       1944.0   \n",
       "3528   2186              Zox, Larry    Male  born 1936       1936.0   \n",
       "3529    621   Zuccarelli, Francesco    Male  1702–1788       1702.0   \n",
       "3530   2187        Zuloaga, Ignacio    Male  1870–1945       1870.0   \n",
       "3531   2188         Zyw, Aleksander    Male  1905–1995       1905.0   \n",
       "\n",
       "      yearOfDeath                    placeOfBirth            placeOfDeath  \\\n",
       "0             NaN                          Polska                     NaN   \n",
       "1          1911.0     Philadelphia, United States  London, United Kingdom   \n",
       "2          1991.0      Springfield, United States   Monson, United States   \n",
       "3          1803.0  Leicestershire, United Kingdom  London, United Kingdom   \n",
       "4             NaN           Wigan, United Kingdom                     NaN   \n",
       "...           ...                             ...                     ...   \n",
       "3527          NaN           Andorno Micca, Italia                     NaN   \n",
       "3528          NaN       Des Moines, United States                     NaN   \n",
       "3529       1788.0                          Italia                 Firenze   \n",
       "3530       1945.0                          España                  España   \n",
       "3531       1995.0                          Polska                     NaN   \n",
       "\n",
       "                                                    url  \n",
       "0     http://www.tate.org.uk/art/artists/magdalena-a...  \n",
       "1     http://www.tate.org.uk/art/artists/edwin-austi...  \n",
       "2     http://www.tate.org.uk/art/artists/berenice-ab...  \n",
       "3     http://www.tate.org.uk/art/artists/lemuel-fran...  \n",
       "4     http://www.tate.org.uk/art/artists/ivor-abraha...  \n",
       "...                                                 ...  \n",
       "3527  http://www.tate.org.uk/art/artists/gilberto-zo...  \n",
       "3528  http://www.tate.org.uk/art/artists/larry-zox-2186  \n",
       "3529  http://www.tate.org.uk/art/artists/francesco-z...  \n",
       "3530  http://www.tate.org.uk/art/artists/ignacio-zul...  \n",
       "3531  http://www.tate.org.uk/art/artists/aleksander-...  \n",
       "\n",
       "[3532 rows x 9 columns]"
      ]
     },
     "execution_count": 1,
     "metadata": {},
     "output_type": "execute_result"
    }
   ],
   "source": [
    "import pandas as pd\n",
    "\n",
    "artist_df = pd.read_csv('/Users/Sherry/Desktop/artist_data.csv', delimiter = \",\", encoding = 'utf-8')\n",
    "artist_df"
   ]
  },
  {
   "cell_type": "markdown",
   "id": "153619e4",
   "metadata": {},
   "source": [
    "Display Random Sample"
   ]
  },
  {
   "cell_type": "code",
   "execution_count": 2,
   "id": "55a92661",
   "metadata": {},
   "outputs": [
    {
     "data": {
      "text/html": [
       "<div>\n",
       "<style scoped>\n",
       "    .dataframe tbody tr th:only-of-type {\n",
       "        vertical-align: middle;\n",
       "    }\n",
       "\n",
       "    .dataframe tbody tr th {\n",
       "        vertical-align: top;\n",
       "    }\n",
       "\n",
       "    .dataframe thead th {\n",
       "        text-align: right;\n",
       "    }\n",
       "</style>\n",
       "<table border=\"1\" class=\"dataframe\">\n",
       "  <thead>\n",
       "    <tr style=\"text-align: right;\">\n",
       "      <th></th>\n",
       "      <th>id</th>\n",
       "      <th>name</th>\n",
       "      <th>gender</th>\n",
       "      <th>dates</th>\n",
       "      <th>yearOfBirth</th>\n",
       "      <th>yearOfDeath</th>\n",
       "      <th>placeOfBirth</th>\n",
       "      <th>placeOfDeath</th>\n",
       "      <th>url</th>\n",
       "    </tr>\n",
       "  </thead>\n",
       "  <tbody>\n",
       "    <tr>\n",
       "      <th>3491</th>\n",
       "      <td>2176</td>\n",
       "      <td>Wynter, Bryan</td>\n",
       "      <td>Male</td>\n",
       "      <td>1915–1975</td>\n",
       "      <td>1915.0</td>\n",
       "      <td>1975.0</td>\n",
       "      <td>London, United Kingdom</td>\n",
       "      <td>Penzance, United Kingdom</td>\n",
       "      <td>http://www.tate.org.uk/art/artists/bryan-wynte...</td>\n",
       "    </tr>\n",
       "    <tr>\n",
       "      <th>303</th>\n",
       "      <td>769</td>\n",
       "      <td>Bloch, Martin</td>\n",
       "      <td>Male</td>\n",
       "      <td>1883–1954</td>\n",
       "      <td>1883.0</td>\n",
       "      <td>1954.0</td>\n",
       "      <td>Schlesien</td>\n",
       "      <td>London, United Kingdom</td>\n",
       "      <td>http://www.tate.org.uk/art/artists/martin-bloc...</td>\n",
       "    </tr>\n",
       "    <tr>\n",
       "      <th>2220</th>\n",
       "      <td>1649</td>\n",
       "      <td>Moholy-Nagy, László</td>\n",
       "      <td>Male</td>\n",
       "      <td>1895–1946</td>\n",
       "      <td>1895.0</td>\n",
       "      <td>1946.0</td>\n",
       "      <td>Magyarország</td>\n",
       "      <td>Chicago, United States</td>\n",
       "      <td>http://www.tate.org.uk/art/artists/laszlo-moho...</td>\n",
       "    </tr>\n",
       "    <tr>\n",
       "      <th>933</th>\n",
       "      <td>11953</td>\n",
       "      <td>Durham, Jimmie</td>\n",
       "      <td>Male</td>\n",
       "      <td>born 1940</td>\n",
       "      <td>1940.0</td>\n",
       "      <td>NaN</td>\n",
       "      <td>Arkansas, United States</td>\n",
       "      <td>NaN</td>\n",
       "      <td>http://www.tate.org.uk/art/artists/jimmie-durh...</td>\n",
       "    </tr>\n",
       "    <tr>\n",
       "      <th>538</th>\n",
       "      <td>2484</td>\n",
       "      <td>Carwitham, Thomas</td>\n",
       "      <td>Male</td>\n",
       "      <td>active 1713–1733</td>\n",
       "      <td>1713.0</td>\n",
       "      <td>1733.0</td>\n",
       "      <td>NaN</td>\n",
       "      <td>NaN</td>\n",
       "      <td>http://www.tate.org.uk/art/artists/thomas-carw...</td>\n",
       "    </tr>\n",
       "    <tr>\n",
       "      <th>2761</th>\n",
       "      <td>1880</td>\n",
       "      <td>Roy, Pierre</td>\n",
       "      <td>Male</td>\n",
       "      <td>1880–1950</td>\n",
       "      <td>1880.0</td>\n",
       "      <td>1950.0</td>\n",
       "      <td>Nantes, France</td>\n",
       "      <td>Milano, Italia</td>\n",
       "      <td>http://www.tate.org.uk/art/artists/pierre-roy-...</td>\n",
       "    </tr>\n",
       "    <tr>\n",
       "      <th>127</th>\n",
       "      <td>15</td>\n",
       "      <td>Aumonier, James</td>\n",
       "      <td>Male</td>\n",
       "      <td>1832–1911</td>\n",
       "      <td>1832.0</td>\n",
       "      <td>1911.0</td>\n",
       "      <td>NaN</td>\n",
       "      <td>NaN</td>\n",
       "      <td>http://www.tate.org.uk/art/artists/james-aumon...</td>\n",
       "    </tr>\n",
       "    <tr>\n",
       "      <th>1086</th>\n",
       "      <td>9439</td>\n",
       "      <td>Fraser, Andrea</td>\n",
       "      <td>Female</td>\n",
       "      <td>born 1965</td>\n",
       "      <td>1965.0</td>\n",
       "      <td>NaN</td>\n",
       "      <td>Montana, United States</td>\n",
       "      <td>NaN</td>\n",
       "      <td>http://www.tate.org.uk/art/artists/andrea-fras...</td>\n",
       "    </tr>\n",
       "    <tr>\n",
       "      <th>81</th>\n",
       "      <td>655</td>\n",
       "      <td>Appelbee, Leonard</td>\n",
       "      <td>Male</td>\n",
       "      <td>1914–2000</td>\n",
       "      <td>1914.0</td>\n",
       "      <td>2000.0</td>\n",
       "      <td>Fulham, United Kingdom</td>\n",
       "      <td>NaN</td>\n",
       "      <td>http://www.tate.org.uk/art/artists/leonard-app...</td>\n",
       "    </tr>\n",
       "    <tr>\n",
       "      <th>2286</th>\n",
       "      <td>1677</td>\n",
       "      <td>Muncaster, Claude</td>\n",
       "      <td>Male</td>\n",
       "      <td>1903–1974</td>\n",
       "      <td>1903.0</td>\n",
       "      <td>1974.0</td>\n",
       "      <td>Horsham, United Kingdom</td>\n",
       "      <td>NaN</td>\n",
       "      <td>http://www.tate.org.uk/art/artists/claude-munc...</td>\n",
       "    </tr>\n",
       "  </tbody>\n",
       "</table>\n",
       "</div>"
      ],
      "text/plain": [
       "         id                 name  gender             dates  yearOfBirth  \\\n",
       "3491   2176        Wynter, Bryan    Male         1915–1975       1915.0   \n",
       "303     769        Bloch, Martin    Male         1883–1954       1883.0   \n",
       "2220   1649  Moholy-Nagy, László    Male         1895–1946       1895.0   \n",
       "933   11953       Durham, Jimmie    Male         born 1940       1940.0   \n",
       "538    2484    Carwitham, Thomas    Male  active 1713–1733       1713.0   \n",
       "2761   1880          Roy, Pierre    Male         1880–1950       1880.0   \n",
       "127      15      Aumonier, James    Male         1832–1911       1832.0   \n",
       "1086   9439       Fraser, Andrea  Female         born 1965       1965.0   \n",
       "81      655    Appelbee, Leonard    Male         1914–2000       1914.0   \n",
       "2286   1677    Muncaster, Claude    Male         1903–1974       1903.0   \n",
       "\n",
       "      yearOfDeath             placeOfBirth              placeOfDeath  \\\n",
       "3491       1975.0   London, United Kingdom  Penzance, United Kingdom   \n",
       "303        1954.0                Schlesien    London, United Kingdom   \n",
       "2220       1946.0             Magyarország    Chicago, United States   \n",
       "933           NaN  Arkansas, United States                       NaN   \n",
       "538        1733.0                      NaN                       NaN   \n",
       "2761       1950.0           Nantes, France            Milano, Italia   \n",
       "127        1911.0                      NaN                       NaN   \n",
       "1086          NaN   Montana, United States                       NaN   \n",
       "81         2000.0   Fulham, United Kingdom                       NaN   \n",
       "2286       1974.0  Horsham, United Kingdom                       NaN   \n",
       "\n",
       "                                                    url  \n",
       "3491  http://www.tate.org.uk/art/artists/bryan-wynte...  \n",
       "303   http://www.tate.org.uk/art/artists/martin-bloc...  \n",
       "2220  http://www.tate.org.uk/art/artists/laszlo-moho...  \n",
       "933   http://www.tate.org.uk/art/artists/jimmie-durh...  \n",
       "538   http://www.tate.org.uk/art/artists/thomas-carw...  \n",
       "2761  http://www.tate.org.uk/art/artists/pierre-roy-...  \n",
       "127   http://www.tate.org.uk/art/artists/james-aumon...  \n",
       "1086  http://www.tate.org.uk/art/artists/andrea-fras...  \n",
       "81    http://www.tate.org.uk/art/artists/leonard-app...  \n",
       "2286  http://www.tate.org.uk/art/artists/claude-munc...  "
      ]
     },
     "execution_count": 2,
     "metadata": {},
     "output_type": "execute_result"
    }
   ],
   "source": [
    "artist_df.sample(10)"
   ]
  },
  {
   "cell_type": "markdown",
   "id": "a486e4d5",
   "metadata": {},
   "source": [
    "Examine Data"
   ]
  },
  {
   "cell_type": "code",
   "execution_count": 3,
   "id": "74220dd9",
   "metadata": {},
   "outputs": [
    {
     "data": {
      "text/plain": [
       "(3532, 9)"
      ]
     },
     "execution_count": 3,
     "metadata": {},
     "output_type": "execute_result"
    }
   ],
   "source": [
    "artist_df.shape"
   ]
  },
  {
   "cell_type": "markdown",
   "id": "cf41aa4a",
   "metadata": {},
   "source": [
    "Data Types"
   ]
  },
  {
   "cell_type": "code",
   "execution_count": 4,
   "id": "824a2fe6",
   "metadata": {},
   "outputs": [
    {
     "data": {
      "text/plain": [
       "id                int64\n",
       "name             object\n",
       "gender           object\n",
       "dates            object\n",
       "yearOfBirth     float64\n",
       "yearOfDeath     float64\n",
       "placeOfBirth     object\n",
       "placeOfDeath     object\n",
       "url              object\n",
       "dtype: object"
      ]
     },
     "execution_count": 4,
     "metadata": {},
     "output_type": "execute_result"
    }
   ],
   "source": [
    "artist_df.dtypes"
   ]
  },
  {
   "cell_type": "markdown",
   "id": "de0b1536",
   "metadata": {},
   "source": [
    "Check columns"
   ]
  },
  {
   "cell_type": "code",
   "execution_count": 5,
   "id": "084b8251",
   "metadata": {},
   "outputs": [
    {
     "data": {
      "text/plain": [
       "Index(['id', 'name', 'gender', 'dates', 'yearOfBirth', 'yearOfDeath',\n",
       "       'placeOfBirth', 'placeOfDeath', 'url'],\n",
       "      dtype='object')"
      ]
     },
     "execution_count": 5,
     "metadata": {},
     "output_type": "execute_result"
    }
   ],
   "source": [
    "artist_df.columns"
   ]
  },
  {
   "cell_type": "code",
   "execution_count": 11,
   "id": "96031db7",
   "metadata": {},
   "outputs": [
    {
     "data": {
      "text/html": [
       "<div>\n",
       "<style scoped>\n",
       "    .dataframe tbody tr th:only-of-type {\n",
       "        vertical-align: middle;\n",
       "    }\n",
       "\n",
       "    .dataframe tbody tr th {\n",
       "        vertical-align: top;\n",
       "    }\n",
       "\n",
       "    .dataframe thead th {\n",
       "        text-align: right;\n",
       "    }\n",
       "</style>\n",
       "<table border=\"1\" class=\"dataframe\">\n",
       "  <thead>\n",
       "    <tr style=\"text-align: right;\">\n",
       "      <th></th>\n",
       "      <th>ID</th>\n",
       "      <th>Name</th>\n",
       "      <th>Gender</th>\n",
       "      <th>Dates</th>\n",
       "      <th>YearOfBirth</th>\n",
       "      <th>YearOfDeath</th>\n",
       "      <th>PlaceOfBirth</th>\n",
       "      <th>PlaceOfDeath</th>\n",
       "      <th>URL</th>\n",
       "    </tr>\n",
       "  </thead>\n",
       "  <tbody>\n",
       "    <tr>\n",
       "      <th>0</th>\n",
       "      <td>10093</td>\n",
       "      <td>Abakanowicz, Magdalena</td>\n",
       "      <td>Female</td>\n",
       "      <td>born 1930</td>\n",
       "      <td>1930.0</td>\n",
       "      <td>NaN</td>\n",
       "      <td>Polska</td>\n",
       "      <td>NaN</td>\n",
       "      <td>http://www.tate.org.uk/art/artists/magdalena-a...</td>\n",
       "    </tr>\n",
       "    <tr>\n",
       "      <th>1</th>\n",
       "      <td>0</td>\n",
       "      <td>Abbey, Edwin Austin</td>\n",
       "      <td>Male</td>\n",
       "      <td>1852–1911</td>\n",
       "      <td>1852.0</td>\n",
       "      <td>1911.0</td>\n",
       "      <td>Philadelphia, United States</td>\n",
       "      <td>London, United Kingdom</td>\n",
       "      <td>http://www.tate.org.uk/art/artists/edwin-austi...</td>\n",
       "    </tr>\n",
       "    <tr>\n",
       "      <th>2</th>\n",
       "      <td>2756</td>\n",
       "      <td>Abbott, Berenice</td>\n",
       "      <td>Female</td>\n",
       "      <td>1898–1991</td>\n",
       "      <td>1898.0</td>\n",
       "      <td>1991.0</td>\n",
       "      <td>Springfield, United States</td>\n",
       "      <td>Monson, United States</td>\n",
       "      <td>http://www.tate.org.uk/art/artists/berenice-ab...</td>\n",
       "    </tr>\n",
       "    <tr>\n",
       "      <th>3</th>\n",
       "      <td>1</td>\n",
       "      <td>Abbott, Lemuel Francis</td>\n",
       "      <td>Male</td>\n",
       "      <td>1760–1803</td>\n",
       "      <td>1760.0</td>\n",
       "      <td>1803.0</td>\n",
       "      <td>Leicestershire, United Kingdom</td>\n",
       "      <td>London, United Kingdom</td>\n",
       "      <td>http://www.tate.org.uk/art/artists/lemuel-fran...</td>\n",
       "    </tr>\n",
       "    <tr>\n",
       "      <th>4</th>\n",
       "      <td>622</td>\n",
       "      <td>Abrahams, Ivor</td>\n",
       "      <td>Male</td>\n",
       "      <td>born 1935</td>\n",
       "      <td>1935.0</td>\n",
       "      <td>NaN</td>\n",
       "      <td>Wigan, United Kingdom</td>\n",
       "      <td>NaN</td>\n",
       "      <td>http://www.tate.org.uk/art/artists/ivor-abraha...</td>\n",
       "    </tr>\n",
       "    <tr>\n",
       "      <th>...</th>\n",
       "      <td>...</td>\n",
       "      <td>...</td>\n",
       "      <td>...</td>\n",
       "      <td>...</td>\n",
       "      <td>...</td>\n",
       "      <td>...</td>\n",
       "      <td>...</td>\n",
       "      <td>...</td>\n",
       "      <td>...</td>\n",
       "    </tr>\n",
       "    <tr>\n",
       "      <th>3527</th>\n",
       "      <td>12542</td>\n",
       "      <td>Zorio, Gilberto</td>\n",
       "      <td>Male</td>\n",
       "      <td>born 1944</td>\n",
       "      <td>1944.0</td>\n",
       "      <td>NaN</td>\n",
       "      <td>Andorno Micca, Italia</td>\n",
       "      <td>NaN</td>\n",
       "      <td>http://www.tate.org.uk/art/artists/gilberto-zo...</td>\n",
       "    </tr>\n",
       "    <tr>\n",
       "      <th>3528</th>\n",
       "      <td>2186</td>\n",
       "      <td>Zox, Larry</td>\n",
       "      <td>Male</td>\n",
       "      <td>born 1936</td>\n",
       "      <td>1936.0</td>\n",
       "      <td>NaN</td>\n",
       "      <td>Des Moines, United States</td>\n",
       "      <td>NaN</td>\n",
       "      <td>http://www.tate.org.uk/art/artists/larry-zox-2186</td>\n",
       "    </tr>\n",
       "    <tr>\n",
       "      <th>3529</th>\n",
       "      <td>621</td>\n",
       "      <td>Zuccarelli, Francesco</td>\n",
       "      <td>Male</td>\n",
       "      <td>1702–1788</td>\n",
       "      <td>1702.0</td>\n",
       "      <td>1788.0</td>\n",
       "      <td>Italia</td>\n",
       "      <td>Firenze</td>\n",
       "      <td>http://www.tate.org.uk/art/artists/francesco-z...</td>\n",
       "    </tr>\n",
       "    <tr>\n",
       "      <th>3530</th>\n",
       "      <td>2187</td>\n",
       "      <td>Zuloaga, Ignacio</td>\n",
       "      <td>Male</td>\n",
       "      <td>1870–1945</td>\n",
       "      <td>1870.0</td>\n",
       "      <td>1945.0</td>\n",
       "      <td>España</td>\n",
       "      <td>España</td>\n",
       "      <td>http://www.tate.org.uk/art/artists/ignacio-zul...</td>\n",
       "    </tr>\n",
       "    <tr>\n",
       "      <th>3531</th>\n",
       "      <td>2188</td>\n",
       "      <td>Zyw, Aleksander</td>\n",
       "      <td>Male</td>\n",
       "      <td>1905–1995</td>\n",
       "      <td>1905.0</td>\n",
       "      <td>1995.0</td>\n",
       "      <td>Polska</td>\n",
       "      <td>NaN</td>\n",
       "      <td>http://www.tate.org.uk/art/artists/aleksander-...</td>\n",
       "    </tr>\n",
       "  </tbody>\n",
       "</table>\n",
       "<p>3532 rows × 9 columns</p>\n",
       "</div>"
      ],
      "text/plain": [
       "         ID                    Name  Gender      Dates  YearOfBirth  \\\n",
       "0     10093  Abakanowicz, Magdalena  Female  born 1930       1930.0   \n",
       "1         0     Abbey, Edwin Austin    Male  1852–1911       1852.0   \n",
       "2      2756        Abbott, Berenice  Female  1898–1991       1898.0   \n",
       "3         1  Abbott, Lemuel Francis    Male  1760–1803       1760.0   \n",
       "4       622          Abrahams, Ivor    Male  born 1935       1935.0   \n",
       "...     ...                     ...     ...        ...          ...   \n",
       "3527  12542         Zorio, Gilberto    Male  born 1944       1944.0   \n",
       "3528   2186              Zox, Larry    Male  born 1936       1936.0   \n",
       "3529    621   Zuccarelli, Francesco    Male  1702–1788       1702.0   \n",
       "3530   2187        Zuloaga, Ignacio    Male  1870–1945       1870.0   \n",
       "3531   2188         Zyw, Aleksander    Male  1905–1995       1905.0   \n",
       "\n",
       "      YearOfDeath                    PlaceOfBirth            PlaceOfDeath  \\\n",
       "0             NaN                          Polska                     NaN   \n",
       "1          1911.0     Philadelphia, United States  London, United Kingdom   \n",
       "2          1991.0      Springfield, United States   Monson, United States   \n",
       "3          1803.0  Leicestershire, United Kingdom  London, United Kingdom   \n",
       "4             NaN           Wigan, United Kingdom                     NaN   \n",
       "...           ...                             ...                     ...   \n",
       "3527          NaN           Andorno Micca, Italia                     NaN   \n",
       "3528          NaN       Des Moines, United States                     NaN   \n",
       "3529       1788.0                          Italia                 Firenze   \n",
       "3530       1945.0                          España                  España   \n",
       "3531       1995.0                          Polska                     NaN   \n",
       "\n",
       "                                                    URL  \n",
       "0     http://www.tate.org.uk/art/artists/magdalena-a...  \n",
       "1     http://www.tate.org.uk/art/artists/edwin-austi...  \n",
       "2     http://www.tate.org.uk/art/artists/berenice-ab...  \n",
       "3     http://www.tate.org.uk/art/artists/lemuel-fran...  \n",
       "4     http://www.tate.org.uk/art/artists/ivor-abraha...  \n",
       "...                                                 ...  \n",
       "3527  http://www.tate.org.uk/art/artists/gilberto-zo...  \n",
       "3528  http://www.tate.org.uk/art/artists/larry-zox-2186  \n",
       "3529  http://www.tate.org.uk/art/artists/francesco-z...  \n",
       "3530  http://www.tate.org.uk/art/artists/ignacio-zul...  \n",
       "3531  http://www.tate.org.uk/art/artists/aleksander-...  \n",
       "\n",
       "[3532 rows x 9 columns]"
      ]
     },
     "execution_count": 11,
     "metadata": {},
     "output_type": "execute_result"
    }
   ],
   "source": [
    "artist_df.rename(columns = {\"id\": \"ID\", \"name\": \"Name\", \"gender\": \"Gender\", \"dates\": \"Dates\", \"yearOfBirth\": \"YearOfBirth\", \"yearOfDeath\": \"YearOfDeath\", \"placeOfBirth\": \"PlaceOfBirth\", \"placeOfDeath\": \"PlaceOfDeath\", \"url\": \"URL\"}, inplace = True)\n",
    "artist_df"
   ]
  },
  {
   "cell_type": "markdown",
   "id": "4d59648a",
   "metadata": {},
   "source": [
    "Rename colume names"
   ]
  },
  {
   "cell_type": "markdown",
   "id": "596a791f",
   "metadata": {},
   "source": [
    "Summary Statistics"
   ]
  },
  {
   "cell_type": "code",
   "execution_count": 6,
   "id": "30f5011b",
   "metadata": {},
   "outputs": [
    {
     "data": {
      "text/html": [
       "<div>\n",
       "<style scoped>\n",
       "    .dataframe tbody tr th:only-of-type {\n",
       "        vertical-align: middle;\n",
       "    }\n",
       "\n",
       "    .dataframe tbody tr th {\n",
       "        vertical-align: top;\n",
       "    }\n",
       "\n",
       "    .dataframe thead th {\n",
       "        text-align: right;\n",
       "    }\n",
       "</style>\n",
       "<table border=\"1\" class=\"dataframe\">\n",
       "  <thead>\n",
       "    <tr style=\"text-align: right;\">\n",
       "      <th></th>\n",
       "      <th>id</th>\n",
       "      <th>name</th>\n",
       "      <th>gender</th>\n",
       "      <th>dates</th>\n",
       "      <th>yearOfBirth</th>\n",
       "      <th>yearOfDeath</th>\n",
       "      <th>placeOfBirth</th>\n",
       "      <th>placeOfDeath</th>\n",
       "      <th>url</th>\n",
       "    </tr>\n",
       "  </thead>\n",
       "  <tbody>\n",
       "    <tr>\n",
       "      <th>count</th>\n",
       "      <td>3532.000000</td>\n",
       "      <td>3532</td>\n",
       "      <td>3416</td>\n",
       "      <td>3470</td>\n",
       "      <td>3472.000000</td>\n",
       "      <td>2228.000000</td>\n",
       "      <td>3040</td>\n",
       "      <td>1453</td>\n",
       "      <td>3532</td>\n",
       "    </tr>\n",
       "    <tr>\n",
       "      <th>unique</th>\n",
       "      <td>NaN</td>\n",
       "      <td>3526</td>\n",
       "      <td>2</td>\n",
       "      <td>2104</td>\n",
       "      <td>NaN</td>\n",
       "      <td>NaN</td>\n",
       "      <td>1263</td>\n",
       "      <td>515</td>\n",
       "      <td>3532</td>\n",
       "    </tr>\n",
       "    <tr>\n",
       "      <th>top</th>\n",
       "      <td>NaN</td>\n",
       "      <td>Stokes, Adrian</td>\n",
       "      <td>Male</td>\n",
       "      <td>born 1967</td>\n",
       "      <td>NaN</td>\n",
       "      <td>NaN</td>\n",
       "      <td>London, United Kingdom</td>\n",
       "      <td>London, United Kingdom</td>\n",
       "      <td>http://www.tate.org.uk/art/artists/magdalena-a...</td>\n",
       "    </tr>\n",
       "    <tr>\n",
       "      <th>freq</th>\n",
       "      <td>NaN</td>\n",
       "      <td>2</td>\n",
       "      <td>2895</td>\n",
       "      <td>42</td>\n",
       "      <td>NaN</td>\n",
       "      <td>NaN</td>\n",
       "      <td>446</td>\n",
       "      <td>443</td>\n",
       "      <td>1</td>\n",
       "    </tr>\n",
       "    <tr>\n",
       "      <th>mean</th>\n",
       "      <td>3330.331257</td>\n",
       "      <td>NaN</td>\n",
       "      <td>NaN</td>\n",
       "      <td>NaN</td>\n",
       "      <td>1887.001440</td>\n",
       "      <td>1921.356822</td>\n",
       "      <td>NaN</td>\n",
       "      <td>NaN</td>\n",
       "      <td>NaN</td>\n",
       "    </tr>\n",
       "    <tr>\n",
       "      <th>std</th>\n",
       "      <td>4160.172543</td>\n",
       "      <td>NaN</td>\n",
       "      <td>NaN</td>\n",
       "      <td>NaN</td>\n",
       "      <td>77.140335</td>\n",
       "      <td>79.520671</td>\n",
       "      <td>NaN</td>\n",
       "      <td>NaN</td>\n",
       "      <td>NaN</td>\n",
       "    </tr>\n",
       "    <tr>\n",
       "      <th>min</th>\n",
       "      <td>0.000000</td>\n",
       "      <td>NaN</td>\n",
       "      <td>NaN</td>\n",
       "      <td>NaN</td>\n",
       "      <td>1497.000000</td>\n",
       "      <td>1543.000000</td>\n",
       "      <td>NaN</td>\n",
       "      <td>NaN</td>\n",
       "      <td>NaN</td>\n",
       "    </tr>\n",
       "    <tr>\n",
       "      <th>25%</th>\n",
       "      <td>885.750000</td>\n",
       "      <td>NaN</td>\n",
       "      <td>NaN</td>\n",
       "      <td>NaN</td>\n",
       "      <td>1855.000000</td>\n",
       "      <td>1876.000000</td>\n",
       "      <td>NaN</td>\n",
       "      <td>NaN</td>\n",
       "      <td>NaN</td>\n",
       "    </tr>\n",
       "    <tr>\n",
       "      <th>50%</th>\n",
       "      <td>1772.500000</td>\n",
       "      <td>NaN</td>\n",
       "      <td>NaN</td>\n",
       "      <td>NaN</td>\n",
       "      <td>1910.000000</td>\n",
       "      <td>1944.000000</td>\n",
       "      <td>NaN</td>\n",
       "      <td>NaN</td>\n",
       "      <td>NaN</td>\n",
       "    </tr>\n",
       "    <tr>\n",
       "      <th>75%</th>\n",
       "      <td>2676.250000</td>\n",
       "      <td>NaN</td>\n",
       "      <td>NaN</td>\n",
       "      <td>NaN</td>\n",
       "      <td>1941.000000</td>\n",
       "      <td>1983.000000</td>\n",
       "      <td>NaN</td>\n",
       "      <td>NaN</td>\n",
       "      <td>NaN</td>\n",
       "    </tr>\n",
       "    <tr>\n",
       "      <th>max</th>\n",
       "      <td>18896.000000</td>\n",
       "      <td>NaN</td>\n",
       "      <td>NaN</td>\n",
       "      <td>NaN</td>\n",
       "      <td>2004.000000</td>\n",
       "      <td>2014.000000</td>\n",
       "      <td>NaN</td>\n",
       "      <td>NaN</td>\n",
       "      <td>NaN</td>\n",
       "    </tr>\n",
       "  </tbody>\n",
       "</table>\n",
       "</div>"
      ],
      "text/plain": [
       "                  id            name gender      dates  yearOfBirth  \\\n",
       "count    3532.000000            3532   3416       3470  3472.000000   \n",
       "unique           NaN            3526      2       2104          NaN   \n",
       "top              NaN  Stokes, Adrian   Male  born 1967          NaN   \n",
       "freq             NaN               2   2895         42          NaN   \n",
       "mean     3330.331257             NaN    NaN        NaN  1887.001440   \n",
       "std      4160.172543             NaN    NaN        NaN    77.140335   \n",
       "min         0.000000             NaN    NaN        NaN  1497.000000   \n",
       "25%       885.750000             NaN    NaN        NaN  1855.000000   \n",
       "50%      1772.500000             NaN    NaN        NaN  1910.000000   \n",
       "75%      2676.250000             NaN    NaN        NaN  1941.000000   \n",
       "max     18896.000000             NaN    NaN        NaN  2004.000000   \n",
       "\n",
       "        yearOfDeath            placeOfBirth            placeOfDeath  \\\n",
       "count   2228.000000                    3040                    1453   \n",
       "unique          NaN                    1263                     515   \n",
       "top             NaN  London, United Kingdom  London, United Kingdom   \n",
       "freq            NaN                     446                     443   \n",
       "mean    1921.356822                     NaN                     NaN   \n",
       "std       79.520671                     NaN                     NaN   \n",
       "min     1543.000000                     NaN                     NaN   \n",
       "25%     1876.000000                     NaN                     NaN   \n",
       "50%     1944.000000                     NaN                     NaN   \n",
       "75%     1983.000000                     NaN                     NaN   \n",
       "max     2014.000000                     NaN                     NaN   \n",
       "\n",
       "                                                      url  \n",
       "count                                                3532  \n",
       "unique                                               3532  \n",
       "top     http://www.tate.org.uk/art/artists/magdalena-a...  \n",
       "freq                                                    1  \n",
       "mean                                                  NaN  \n",
       "std                                                   NaN  \n",
       "min                                                   NaN  \n",
       "25%                                                   NaN  \n",
       "50%                                                   NaN  \n",
       "75%                                                   NaN  \n",
       "max                                                   NaN  "
      ]
     },
     "execution_count": 6,
     "metadata": {},
     "output_type": "execute_result"
    }
   ],
   "source": [
    "artist_df.describe(include='all')"
   ]
  },
  {
   "cell_type": "markdown",
   "id": "7fce45ae",
   "metadata": {},
   "source": [
    "Check for Duplicates"
   ]
  },
  {
   "cell_type": "code",
   "execution_count": 15,
   "id": "3100dfea",
   "metadata": {},
   "outputs": [
    {
     "data": {
      "text/plain": [
       "0       False\n",
       "1       False\n",
       "2       False\n",
       "3       False\n",
       "4       False\n",
       "        ...  \n",
       "3527    False\n",
       "3528    False\n",
       "3529    False\n",
       "3530    False\n",
       "3531    False\n",
       "Length: 3532, dtype: bool"
      ]
     },
     "execution_count": 15,
     "metadata": {},
     "output_type": "execute_result"
    }
   ],
   "source": [
    "artist_df.duplicated(keep = False)"
   ]
  },
  {
   "cell_type": "code",
   "execution_count": 14,
   "id": "92a316f1",
   "metadata": {},
   "outputs": [
    {
     "data": {
      "text/html": [
       "<div>\n",
       "<style scoped>\n",
       "    .dataframe tbody tr th:only-of-type {\n",
       "        vertical-align: middle;\n",
       "    }\n",
       "\n",
       "    .dataframe tbody tr th {\n",
       "        vertical-align: top;\n",
       "    }\n",
       "\n",
       "    .dataframe thead th {\n",
       "        text-align: right;\n",
       "    }\n",
       "</style>\n",
       "<table border=\"1\" class=\"dataframe\">\n",
       "  <thead>\n",
       "    <tr style=\"text-align: right;\">\n",
       "      <th></th>\n",
       "      <th>ID</th>\n",
       "      <th>Name</th>\n",
       "      <th>Gender</th>\n",
       "      <th>Dates</th>\n",
       "      <th>YearOfBirth</th>\n",
       "      <th>YearOfDeath</th>\n",
       "      <th>PlaceOfBirth</th>\n",
       "      <th>PlaceOfDeath</th>\n",
       "      <th>URL</th>\n",
       "    </tr>\n",
       "  </thead>\n",
       "  <tbody>\n",
       "  </tbody>\n",
       "</table>\n",
       "</div>"
      ],
      "text/plain": [
       "Empty DataFrame\n",
       "Columns: [ID, Name, Gender, Dates, YearOfBirth, YearOfDeath, PlaceOfBirth, PlaceOfDeath, URL]\n",
       "Index: []"
      ]
     },
     "execution_count": 14,
     "metadata": {},
     "output_type": "execute_result"
    }
   ],
   "source": [
    "artist_df[artist_df.duplicated(keep = False)]"
   ]
  },
  {
   "cell_type": "markdown",
   "id": "932ffd16",
   "metadata": {},
   "source": [
    "No duplicate rows"
   ]
  },
  {
   "cell_type": "markdown",
   "id": "79b40f52",
   "metadata": {},
   "source": [
    "Questions:"
   ]
  },
  {
   "cell_type": "markdown",
   "id": "fa3be1cd",
   "metadata": {},
   "source": [
    "1. As time goes by, every year there are more artists or less? What is the trend of the number of artists? "
   ]
  },
  {
   "cell_type": "code",
   "execution_count": 12,
   "id": "9e4ff53c",
   "metadata": {},
   "outputs": [
    {
     "data": {
      "image/png": "[encoded data removed]",
      "text/plain": [
       "<Figure size 432x288 with 1 Axes>"
      ]
     },
     "metadata": {
      "needs_background": "light"
     },
     "output_type": "display_data"
    }
   ],
   "source": [
    "artist_number = artist_df.groupby('YearOfBirth')['Gender'].count().reset_index()\n",
    "ax = artist_number.plot(kind='scatter', x='YearOfBirth', y='Gender', color='black')"
   ]
  },
  {
   "cell_type": "markdown",
   "id": "9e3efd75",
   "metadata": {},
   "source": [
    "As we can see from the figure above, there are a few artists around the year 1500 with only one or two artists each year. From 1700, the number of artists increases steadily. It raises dramatically from 1900, and about 1930 the artist number reaches its peak of about 48. Then a sharp decline after several years. Around 2000 - the last period of the time stream, a few artists are the, just like the beginning of the time stream."
   ]
  },
  {
   "cell_type": "markdown",
   "id": "c2b0e47d",
   "metadata": {},
   "source": [
    "2. There are more male artists or female artists?"
   ]
  },
  {
   "cell_type": "code",
   "execution_count": 13,
   "id": "69a5d605",
   "metadata": {},
   "outputs": [
    {
     "data": {
      "text/plain": [
       "<AxesSubplot:xlabel='YearOfBirth', ylabel='Gender'>"
      ]
     },
     "execution_count": 13,
     "metadata": {},
     "output_type": "execute_result"
    },
    {
     "data": {
      "image/png": "[encoded data removed]",
      "text/plain": [
       "<Figure size 432x288 with 1 Axes>"
      ]
     },
     "metadata": {
      "needs_background": "light"
     },
     "output_type": "display_data"
    },
    {
     "data": {
      "image/png": "[encoded data removed]",
      "text/plain": [
       "<Figure size 432x288 with 1 Axes>"
      ]
     },
     "metadata": {
      "needs_background": "light"
     },
     "output_type": "display_data"
    }
   ],
   "source": [
    "artist_male = artist_df['Gender'] == 'Male'\n",
    "artist_male_df = artist_df[artist_male]\n",
    "artist_male_number = artist_male_df.groupby('YearOfBirth')['Gender'].count().reset_index()\n",
    "\n",
    "ax = artist_male_number.plot(kind='scatter', x='YearOfBirth', y='Gender', color='blue')\n",
    "artist_number.plot(ax = ax, kind='scatter', x='YearOfBirth', y='Gender', color='black')\n",
    "\n",
    "artist_female = artist_df['Gender'] == 'Female'\n",
    "artist_female_df = artist_df[artist_female]\n",
    "artist_female_number = artist_female_df.groupby('YearOfBirth')['Gender'].count().reset_index()\n",
    "\n",
    "ax = artist_male_number.plot(kind='scatter', x='YearOfBirth', y='Gender', color='blue')\n",
    "artist_female_number.plot(ax = ax, kind='scatter', x='YearOfBirth', y='Gender', color='red')"
   ]
  },
  {
   "cell_type": "markdown",
   "id": "ba305f04",
   "metadata": {},
   "source": [
    "In general, there are more male artists than female artists. The distribution of male artists is quite similar to the figure of all artists, starting from one or two in 1500, increasing in 1700, reaching a peak around 1930, and soon decreasing to one or two. Although the trend of female artists is also in keeping with the overall trend - going up steadily and going down rapidly, the numbers are much less than for male artists. It seems that there would not be a big change without female artists."
   ]
  },
  {
   "cell_type": "markdown",
   "id": "bc186a65",
   "metadata": {},
   "source": [
    "3. Which country is the popular birthplace for artists? How about deathplace?"
   ]
  },
  {
   "cell_type": "code",
   "execution_count": 55,
   "id": "ccfec5d9",
   "metadata": {},
   "outputs": [
    {
     "name": "stdout",
     "output_type": "stream",
     "text": [
      "[('United Kingdom', 1496), ('nan', 492), ('United States', 339), ('France', 157), ('Deutschland', 142), ('Italia', 80), ('Éire', 51), ('Polska', 41), ('Canada', 40), ('België', 37), ('Nederland', 35), ('Rossiya', 32), ('Brasil', 30), ('Schweiz', 29), ('España', 29), ('Österreich', 29), ('Nihon', 27), ('Bharat', 24), ('Australia', 23), ('Zhonghua', 22)]\n"
     ]
    }
   ],
   "source": [
    "import numpy as np\n",
    "from collections import Counter\n",
    "\n",
    "birth_country_df = pd.read_csv('/Users/Sherry/Desktop/artist_data.csv', usecols = [6], names = None)\n",
    "birth_country_list = birth_country_df.values.tolist()\n",
    "birth_country_list = list(np.ravel(birth_country_list))\n",
    "\n",
    "artist_birth_country = []\n",
    "for item in (birth_country_list):\n",
    "    if \",\" in item:\n",
    "        artist_birth_country.append(item.split(', ')[1])\n",
    "    else:\n",
    "        artist_birth_country.append(item)\n",
    "\n",
    "def counter(text):\n",
    "    return Counter(text).most_common(20)\n",
    "print(counter(artist_birth_country))"
   ]
  },
  {
   "cell_type": "code",
   "execution_count": 56,
   "id": "0fa19854",
   "metadata": {},
   "outputs": [
    {
     "name": "stdout",
     "output_type": "stream",
     "text": [
      "[('nan', 2079), ('United Kingdom', 858), ('France', 158), ('United States', 126), ('Italia', 58), ('Deutschland', 33), ('Schweiz', 21), ('Éire', 14), ('Nederland', 13), ('España', 11), ('Australia', 9), ('België', 9), ('Canada', 8), ('London', 7), ('Brasil', 7), ('Hrvatska', 6), ('Sverige', 5), ('México', 5), ('Ceská Republika', 5), ('Österreich', 5)]\n"
     ]
    }
   ],
   "source": [
    "country_df = pd.read_csv('/Users/Sherry/Desktop/artist_data.csv', usecols = [7], names = None)\n",
    "death_country_list = country_df.values.tolist()\n",
    "death_country_list = list(np.ravel(death_country_list))\n",
    "\n",
    "artist_death_country = []\n",
    "for item in (death_country_list):\n",
    "    if \",\" in item:\n",
    "        artist_death_country.append(item.split(', ')[1])\n",
    "    else:\n",
    "        artist_death_country.append(item)\n",
    "\n",
    "print(counter(artist_death_country))"
   ]
  },
  {
   "cell_type": "code",
   "execution_count": 58,
   "id": "72165fe8",
   "metadata": {},
   "outputs": [
    {
     "data": {
      "text/plain": [
       "<AxesSubplot:title={'center':'Country of Death'}, ylabel='country'>"
      ]
     },
     "execution_count": 58,
     "metadata": {},
     "output_type": "execute_result"
    },
    {
     "data": {
      "image/png": "[encoded data removed]",
      "text/plain": [
       "<Figure size 432x288 with 1 Axes>"
      ]
     },
     "metadata": {
      "needs_background": "light"
     },
     "output_type": "display_data"
    },
    {
     "data": {
      "image/png": "[encoded data removed]",
      "text/plain": [
       "<Figure size 432x288 with 1 Axes>"
      ]
     },
     "metadata": {
      "needs_background": "light"
     },
     "output_type": "display_data"
    }
   ],
   "source": [
    "birth_country_frequencies = counter(artist_birth_country)\n",
    "birth_country_frequency_df = pd.DataFrame(birth_country_frequencies, columns=['country', 'country_count'])\n",
    "birth_country_frequency_df.sort_values(by = 'country_count').plot(x = 'country', kind = 'barh', title = \"Country of Birth\")\n",
    "\n",
    "death_country_frequencies = counter(artist_death_country)\n",
    "death_country_frequency_df = pd.DataFrame(death_country_frequencies, columns=['country', 'country_count'])\n",
    "death_country_frequency_df.sort_values(by = 'country_count').plot(x = 'country', kind = 'barh', title = \"Country of Death\")"
   ]
  },
  {
   "cell_type": "markdown",
   "id": "5ec226b1",
   "metadata": {},
   "source": [
    "As we can see above, the majority of artists were born in the United Kingdom. Apart from those who we failed to track, the United States, France, Deutschland, and Italy also have many artists.\n",
    "We failed to track the place of death for the majority of artists. For those in the record, the five of them are also the top five countries that artists chose to live in their old age, although there are some differences. The United Kingdom is still the most popular one. However, about half artists moved to other countries as time goes by. France moved to second while the United States fell to third, the same goes for Deutschland and Italy."
   ]
  }
 ],
 "metadata": {
  "kernelspec": {
   "display_name": "Python 3 (ipykernel)",
   "language": "python",
   "name": "python3"
  },
  "language_info": {
   "codemirror_mode": {
    "name": "ipython",
    "version": 3
   },
   "file_extension": ".py",
   "mimetype": "text/x-python",
   "name": "python",
   "nbconvert_exporter": "python",
   "pygments_lexer": "ipython3",
   "version": "3.9.12"
  }
 },
 "nbformat": 4,
 "nbformat_minor": 5
}
